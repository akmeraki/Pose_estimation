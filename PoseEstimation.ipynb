{
 "cells": [
  {
   "cell_type": "code",
   "execution_count": null,
   "metadata": {
    "colab": {
     "base_uri": "https://localhost:8080/",
     "height": 34
    },
    "colab_type": "code",
    "executionInfo": {
     "elapsed": 534,
     "status": "ok",
     "timestamp": 1555118718760,
     "user": {
      "displayName": "Shyam Subramanian",
      "photoUrl": "",
      "userId": "08648789884609156572"
     },
     "user_tz": 240
    },
    "id": "IyK-5uSXAsp9",
    "outputId": "67b3e6e5-794c-4c9f-ff86-2a5b4dc854af"
   },
   "outputs": [
    {
     "name": "stdout",
     "output_type": "stream",
     "text": [
      "Drive already mounted at /content/drive; to attempt to forcibly remount, call drive.mount(\"/content/drive\", force_remount=True).\n"
     ]
    }
   ],
   "source": [
    "from google.colab import drive\n",
    "drive.mount('/content/drive')"
   ]
  },
  {
   "cell_type": "code",
   "execution_count": null,
   "metadata": {
    "colab": {
     "base_uri": "https://localhost:8080/",
     "height": 34
    },
    "colab_type": "code",
    "executionInfo": {
     "elapsed": 1520,
     "status": "ok",
     "timestamp": 1555118747613,
     "user": {
      "displayName": "Shyam Subramanian",
      "photoUrl": "",
      "userId": "08648789884609156572"
     },
     "user_tz": 240
    },
    "id": "u2K7D2TfA0ZI",
    "outputId": "f46d306d-5212-4205-e165-59cbde7fd4cf"
   },
   "outputs": [
    {
     "name": "stdout",
     "output_type": "stream",
     "text": [
      "PoseEstimation.ipynb  TF-SimpleHumanPose\n"
     ]
    }
   ],
   "source": [
    "!ls '/content/drive/My Drive/PoseEstimation'"
   ]
  },
  {
   "cell_type": "code",
   "execution_count": null,
   "metadata": {
    "colab": {
     "base_uri": "https://localhost:8080/",
     "height": 34
    },
    "colab_type": "code",
    "executionInfo": {
     "elapsed": 3799,
     "status": "ok",
     "timestamp": 1555119019145,
     "user": {
      "displayName": "Shyam Subramanian",
      "photoUrl": "",
      "userId": "08648789884609156572"
     },
     "user_tz": 240
    },
    "id": "De5zNDT9UP4F",
    "outputId": "6b7fb6fd-bf7a-415e-edc3-c400b58195e6"
   },
   "outputs": [
    {
     "name": "stdout",
     "output_type": "stream",
     "text": [
      "Requirement already satisfied: pycocotools in /usr/local/lib/python3.6/dist-packages (2.0.0)\n"
     ]
    }
   ],
   "source": [
    "!pip install pycocotools"
   ]
  },
  {
   "cell_type": "code",
   "execution_count": null,
   "metadata": {
    "colab": {
     "base_uri": "https://localhost:8080/",
     "height": 694
    },
    "colab_type": "code",
    "executionInfo": {
     "elapsed": 12681,
     "status": "ok",
     "timestamp": 1555119112828,
     "user": {
      "displayName": "Shyam Subramanian",
      "photoUrl": "",
      "userId": "08648789884609156572"
     },
     "user_tz": 240
    },
    "id": "kqVk3pFkQ-_r",
    "outputId": "e042dbea-db90-498a-ded7-d77b44f109fe"
   },
   "outputs": [
    {
     "name": "stdout",
     "output_type": "stream",
     "text": [
      "Requirement already satisfied: termcolor>=1.1 in /usr/local/lib/python3.6/dist-packages (from -r /content/drive/My Drive/PoseEstimation/TF-SimpleHumanPose/requirement.txt (line 1)) (1.1.0)\n",
      "Requirement already satisfied: tabulate>=0.7.7 in /usr/local/lib/python3.6/dist-packages (from -r /content/drive/My Drive/PoseEstimation/TF-SimpleHumanPose/requirement.txt (line 2)) (0.8.3)\n",
      "Requirement already satisfied: tqdm>4.11.1 in /usr/local/lib/python3.6/dist-packages (from -r /content/drive/My Drive/PoseEstimation/TF-SimpleHumanPose/requirement.txt (line 3)) (4.28.1)\n",
      "Collecting pyarrow>=0.9.0 (from -r /content/drive/My Drive/PoseEstimation/TF-SimpleHumanPose/requirement.txt (line 4))\n",
      "\u001b[?25l  Downloading https://files.pythonhosted.org/packages/ad/25/094b122d828d24b58202712a74e661e36cd551ca62d331e388ff68bae91d/pyarrow-0.13.0-cp36-cp36m-manylinux1_x86_64.whl (48.5MB)\n",
      "\u001b[K    100% |████████████████████████████████| 48.5MB 768kB/s \n",
      "\u001b[?25hRequirement already satisfied: pyzmq>=16 in /usr/local/lib/python3.6/dist-packages (from -r /content/drive/My Drive/PoseEstimation/TF-SimpleHumanPose/requirement.txt (line 5)) (17.0.0)\n",
      "Requirement already satisfied: msgpack in /usr/local/lib/python3.6/dist-packages (from -r /content/drive/My Drive/PoseEstimation/TF-SimpleHumanPose/requirement.txt (line 7)) (0.5.6)\n",
      "Requirement already satisfied: msgpack_numpy in /usr/local/lib/python3.6/dist-packages (from -r /content/drive/My Drive/PoseEstimation/TF-SimpleHumanPose/requirement.txt (line 8)) (0.4.3.2)\n",
      "Collecting datetime (from -r /content/drive/My Drive/PoseEstimation/TF-SimpleHumanPose/requirement.txt (line 9))\n",
      "\u001b[?25l  Downloading https://files.pythonhosted.org/packages/73/22/a5297f3a1f92468cc737f8ce7ba6e5f245fcfafeae810ba37bd1039ea01c/DateTime-4.3-py2.py3-none-any.whl (60kB)\n",
      "\u001b[K    100% |████████████████████████████████| 61kB 21.3MB/s \n",
      "\u001b[?25hCollecting setproctitle (from -r /content/drive/My Drive/PoseEstimation/TF-SimpleHumanPose/requirement.txt (line 10))\n",
      "  Downloading https://files.pythonhosted.org/packages/5a/0d/dc0d2234aacba6cf1a729964383e3452c52096dc695581248b548786f2b3/setproctitle-1.1.10.tar.gz\n",
      "Requirement already satisfied: pillow in /usr/local/lib/python3.6/dist-packages (from -r /content/drive/My Drive/PoseEstimation/TF-SimpleHumanPose/requirement.txt (line 11)) (4.3.0)\n",
      "Requirement already satisfied: matplotlib in /usr/local/lib/python3.6/dist-packages (from -r /content/drive/My Drive/PoseEstimation/TF-SimpleHumanPose/requirement.txt (line 12)) (3.0.3)\n",
      "Requirement already satisfied: Cython>=0.19.2 in /usr/local/lib/python3.6/dist-packages (from -r /content/drive/My Drive/PoseEstimation/TF-SimpleHumanPose/requirement.txt (line 14)) (0.29.6)\n",
      "Requirement already satisfied: numpy>=1.7.1 in /usr/local/lib/python3.6/dist-packages (from -r /content/drive/My Drive/PoseEstimation/TF-SimpleHumanPose/requirement.txt (line 15)) (1.16.2)\n",
      "Requirement already satisfied: scipy>=0.13.2 in /usr/local/lib/python3.6/dist-packages (from -r /content/drive/My Drive/PoseEstimation/TF-SimpleHumanPose/requirement.txt (line 16)) (1.2.1)\n",
      "Requirement already satisfied: opencv-python in /usr/local/lib/python3.6/dist-packages (from -r /content/drive/My Drive/PoseEstimation/TF-SimpleHumanPose/requirement.txt (line 17)) (3.4.5.20)\n",
      "Requirement already satisfied: six>=1.0.0 in /usr/local/lib/python3.6/dist-packages (from pyarrow>=0.9.0->-r /content/drive/My Drive/PoseEstimation/TF-SimpleHumanPose/requirement.txt (line 4)) (1.11.0)\n",
      "Collecting zope.interface (from datetime->-r /content/drive/My Drive/PoseEstimation/TF-SimpleHumanPose/requirement.txt (line 9))\n",
      "\u001b[?25l  Downloading https://files.pythonhosted.org/packages/19/17/1d198a6aaa9aa4590862fe3d3a2ed7dd808050cab4eebe8a2f2f813c1376/zope.interface-4.6.0-cp36-cp36m-manylinux1_x86_64.whl (167kB)\n",
      "\u001b[K    100% |████████████████████████████████| 174kB 30.4MB/s \n",
      "\u001b[?25hRequirement already satisfied: pytz in /usr/local/lib/python3.6/dist-packages (from datetime->-r /content/drive/My Drive/PoseEstimation/TF-SimpleHumanPose/requirement.txt (line 9)) (2018.9)\n",
      "Requirement already satisfied: olefile in /usr/local/lib/python3.6/dist-packages (from pillow->-r /content/drive/My Drive/PoseEstimation/TF-SimpleHumanPose/requirement.txt (line 11)) (0.46)\n",
      "Requirement already satisfied: pyparsing!=2.0.4,!=2.1.2,!=2.1.6,>=2.0.1 in /usr/local/lib/python3.6/dist-packages (from matplotlib->-r /content/drive/My Drive/PoseEstimation/TF-SimpleHumanPose/requirement.txt (line 12)) (2.4.0)\n",
      "Requirement already satisfied: kiwisolver>=1.0.1 in /usr/local/lib/python3.6/dist-packages (from matplotlib->-r /content/drive/My Drive/PoseEstimation/TF-SimpleHumanPose/requirement.txt (line 12)) (1.0.1)\n",
      "Requirement already satisfied: python-dateutil>=2.1 in /usr/local/lib/python3.6/dist-packages (from matplotlib->-r /content/drive/My Drive/PoseEstimation/TF-SimpleHumanPose/requirement.txt (line 12)) (2.5.3)\n",
      "Requirement already satisfied: cycler>=0.10 in /usr/local/lib/python3.6/dist-packages (from matplotlib->-r /content/drive/My Drive/PoseEstimation/TF-SimpleHumanPose/requirement.txt (line 12)) (0.10.0)\n",
      "Requirement already satisfied: setuptools in /usr/local/lib/python3.6/dist-packages (from zope.interface->datetime->-r /content/drive/My Drive/PoseEstimation/TF-SimpleHumanPose/requirement.txt (line 9)) (40.9.0)\n",
      "Building wheels for collected packages: setproctitle\n",
      "  Building wheel for setproctitle (setup.py) ... \u001b[?25ldone\n",
      "\u001b[?25h  Stored in directory: /root/.cache/pip/wheels/e6/b1/a6/9719530228e258eba904501fef99d5d85c80d52bd8f14438a3\n",
      "Successfully built setproctitle\n",
      "Installing collected packages: pyarrow, zope.interface, datetime, setproctitle\n",
      "Successfully installed datetime-4.3 pyarrow-0.13.0 setproctitle-1.1.10 zope.interface-4.6.0\n"
     ]
    }
   ],
   "source": [
    "!pip install -r '/content/drive/My Drive/PoseEstimation/TF-SimpleHumanPose/requirement.txt'"
   ]
  },
  {
   "cell_type": "code",
   "execution_count": null,
   "metadata": {
    "colab": {
     "base_uri": "https://localhost:8080/",
     "height": 34
    },
    "colab_type": "code",
    "executionInfo": {
     "elapsed": 454,
     "status": "ok",
     "timestamp": 1555119732830,
     "user": {
      "displayName": "Shyam Subramanian",
      "photoUrl": "",
      "userId": "08648789884609156572"
     },
     "user_tz": 240
    },
    "id": "Am4GXLkzVQen",
    "outputId": "e1871c8e-adb2-4f64-fea9-66c3eab49eff"
   },
   "outputs": [
    {
     "name": "stdout",
     "output_type": "stream",
     "text": [
      "/content/drive/My Drive/PoseEstimation/TF-SimpleHumanPose/lib/nms\n"
     ]
    }
   ],
   "source": [
    "%cd '/content/drive/My Drive/PoseEstimation/TF-SimpleHumanPose/lib/nms'"
   ]
  },
  {
   "cell_type": "code",
   "execution_count": null,
   "metadata": {
    "colab": {
     "base_uri": "https://localhost:8080/",
     "height": 534
    },
    "colab_type": "code",
    "executionInfo": {
     "elapsed": 10745,
     "status": "ok",
     "timestamp": 1555119756341,
     "user": {
      "displayName": "Shyam Subramanian",
      "photoUrl": "",
      "userId": "08648789884609156572"
     },
     "user_tz": 240
    },
    "id": "X8n3mPYiUeIO",
    "outputId": "ef774cc6-5d63-4cc8-ca4d-5605d6a0e3a0"
   },
   "outputs": [
    {
     "name": "stdout",
     "output_type": "stream",
     "text": [
      "running build_ext\n",
      "cythoning cpu_nms.pyx to cpu_nms.c\n",
      "/usr/local/lib/python3.6/dist-packages/Cython/Compiler/Main.py:367: FutureWarning: Cython directive 'language_level' not set, using 2 for now (Py2). This will change in a later release! File: /content/drive/My Drive/PoseEstimation/TF-SimpleHumanPose/lib/nms/cpu_nms.pyx\n",
      "  tree = Parsing.p_module(s, pxd, full_module_name)\n",
      "building 'cpu_nms' extension\n",
      "creating build\n",
      "creating build/temp.linux-x86_64-3.6\n",
      "x86_64-linux-gnu-gcc -pthread -DNDEBUG -g -fwrapv -O2 -Wall -g -fstack-protector-strong -Wformat -Werror=format-security -Wdate-time -D_FORTIFY_SOURCE=2 -fPIC -I/usr/local/lib/python3.6/dist-packages/numpy/core/include -I/usr/include/python3.6m -c cpu_nms.c -o build/temp.linux-x86_64-3.6/cpu_nms.o -Wno-cpp -Wno-unused-function\n",
      "x86_64-linux-gnu-gcc -pthread -shared -Wl,-O1 -Wl,-Bsymbolic-functions -Wl,-Bsymbolic-functions -Wl,-z,relro -Wl,-Bsymbolic-functions -Wl,-z,relro -g -fstack-protector-strong -Wformat -Werror=format-security -Wdate-time -D_FORTIFY_SOURCE=2 build/temp.linux-x86_64-3.6/cpu_nms.o -o /content/drive/My Drive/PoseEstimation/TF-SimpleHumanPose/lib/nms/cpu_nms.cpython-36m-x86_64-linux-gnu.so\n",
      "cythoning gpu_nms.pyx to gpu_nms.cpp\n",
      "/usr/local/lib/python3.6/dist-packages/Cython/Compiler/Main.py:367: FutureWarning: Cython directive 'language_level' not set, using 2 for now (Py2). This will change in a later release! File: /content/drive/My Drive/PoseEstimation/TF-SimpleHumanPose/lib/nms/gpu_nms.pyx\n",
      "  tree = Parsing.p_module(s, pxd, full_module_name)\n",
      "building 'gpu_nms' extension\n",
      "/usr/local/cuda/bin/nvcc -I/usr/local/lib/python3.6/dist-packages/numpy/core/include -I/usr/local/cuda/include -I/usr/include/python3.6m -c nms_kernel.cu -o build/temp.linux-x86_64-3.6/nms_kernel.o -arch=sm_35 --ptxas-options=-v -c --compiler-options '-fPIC'\n",
      "ptxas info    : 0 bytes gmem\n",
      "ptxas info    : Compiling entry function '_Z10nms_kernelifPKfPy' for 'sm_35'\n",
      "ptxas info    : Function properties for _Z10nms_kernelifPKfPy\n",
      "    0 bytes stack frame, 0 bytes spill stores, 0 bytes spill loads\n",
      "ptxas info    : Used 23 registers, 1280 bytes smem, 344 bytes cmem[0], 16 bytes cmem[2]\n",
      "x86_64-linux-gnu-gcc -pthread -DNDEBUG -g -fwrapv -O2 -Wall -g -fstack-protector-strong -Wformat -Werror=format-security -Wdate-time -D_FORTIFY_SOURCE=2 -fPIC -I/usr/local/lib/python3.6/dist-packages/numpy/core/include -I/usr/local/cuda/include -I/usr/include/python3.6m -c gpu_nms.cpp -o build/temp.linux-x86_64-3.6/gpu_nms.o -Wno-unused-function\n",
      "In file included from \u001b[01m\u001b[K/usr/local/lib/python3.6/dist-packages/numpy/core/include/numpy/ndarraytypes.h:1822:0\u001b[m\u001b[K,\n",
      "                 from \u001b[01m\u001b[K/usr/local/lib/python3.6/dist-packages/numpy/core/include/numpy/ndarrayobject.h:12\u001b[m\u001b[K,\n",
      "                 from \u001b[01m\u001b[K/usr/local/lib/python3.6/dist-packages/numpy/core/include/numpy/arrayobject.h:4\u001b[m\u001b[K,\n",
      "                 from \u001b[01m\u001b[Kgpu_nms.cpp:607\u001b[m\u001b[K:\n",
      "\u001b[01m\u001b[K/usr/local/lib/python3.6/dist-packages/numpy/core/include/numpy/npy_1_7_deprecated_api.h:17:2:\u001b[m\u001b[K \u001b[01;35m\u001b[Kwarning: \u001b[m\u001b[K#warning \"Using deprecated NumPy API, disable it with \" \"#define NPY_NO_DEPRECATED_API NPY_1_7_API_VERSION\" [\u001b[01;35m\u001b[K-Wcpp\u001b[m\u001b[K]\n",
      " #\u001b[01;35m\u001b[Kwarning\u001b[m\u001b[K \"Using deprecated NumPy API, disable it with \" \\\n",
      "  \u001b[01;35m\u001b[K^~~~~~~\u001b[m\u001b[K\n",
      "x86_64-linux-gnu-g++ -pthread -shared -Wl,-O1 -Wl,-Bsymbolic-functions -Wl,-Bsymbolic-functions -Wl,-z,relro -Wl,-Bsymbolic-functions -Wl,-z,relro -g -fstack-protector-strong -Wformat -Werror=format-security -Wdate-time -D_FORTIFY_SOURCE=2 build/temp.linux-x86_64-3.6/nms_kernel.o build/temp.linux-x86_64-3.6/gpu_nms.o -L/usr/local/cuda/lib64 -Wl,--enable-new-dtags,-R/usr/local/cuda/lib64 -lcudart -o /content/drive/My Drive/PoseEstimation/TF-SimpleHumanPose/lib/nms/gpu_nms.cpython-36m-x86_64-linux-gnu.so\n"
     ]
    }
   ],
   "source": [
    "!python setup.py build_ext --inplace"
   ]
  },
  {
   "cell_type": "code",
   "execution_count": null,
   "metadata": {
    "colab": {
     "base_uri": "https://localhost:8080/",
     "height": 123
    },
    "colab_type": "code",
    "executionInfo": {
     "elapsed": 1363,
     "status": "ok",
     "timestamp": 1555119777025,
     "user": {
      "displayName": "Shyam Subramanian",
      "photoUrl": "",
      "userId": "08648789884609156572"
     },
     "user_tz": 240
    },
    "id": "FRA4huNEWn3I",
    "outputId": "ea792c3a-900d-4cc6-a40e-ff82c1d73f61"
   },
   "outputs": [
    {
     "name": "stdout",
     "output_type": "stream",
     "text": [
      "build\t\t\t\t\t gpu_nms.hpp\n",
      "cpu_nms.c\t\t\t\t gpu_nms.pyx\n",
      "cpu_nms.cpython-36m-x86_64-linux-gnu.so  __init__.py\n",
      "cpu_nms.pyx\t\t\t\t nms_kernel.cu\n",
      "gpu_nms.cpp\t\t\t\t nms.py\n",
      "gpu_nms.cpython-36m-x86_64-linux-gnu.so  setup.py\n"
     ]
    }
   ],
   "source": [
    "!ls"
   ]
  },
  {
   "cell_type": "code",
   "execution_count": null,
   "metadata": {
    "colab": {},
    "colab_type": "code",
    "id": "aChxlaiJWrwl"
   },
   "outputs": [],
   "source": [
    "!rm -rf build"
   ]
  },
  {
   "cell_type": "code",
   "execution_count": null,
   "metadata": {
    "colab": {
     "base_uri": "https://localhost:8080/",
     "height": 34
    },
    "colab_type": "code",
    "executionInfo": {
     "elapsed": 313,
     "status": "ok",
     "timestamp": 1555119818247,
     "user": {
      "displayName": "Shyam Subramanian",
      "photoUrl": "",
      "userId": "08648789884609156572"
     },
     "user_tz": 240
    },
    "id": "U03bFCPKXMT8",
    "outputId": "10d8463d-673a-41f0-f2df-ee973315a305"
   },
   "outputs": [
    {
     "name": "stdout",
     "output_type": "stream",
     "text": [
      "/content/drive/My Drive/PoseEstimation/TF-SimpleHumanPose\n"
     ]
    }
   ],
   "source": [
    "%cd ../../"
   ]
  },
  {
   "cell_type": "code",
   "execution_count": null,
   "metadata": {
    "colab": {
     "base_uri": "https://localhost:8080/",
     "height": 34
    },
    "colab_type": "code",
    "executionInfo": {
     "elapsed": 287,
     "status": "ok",
     "timestamp": 1555119853444,
     "user": {
      "displayName": "Shyam Subramanian",
      "photoUrl": "",
      "userId": "08648789884609156572"
     },
     "user_tz": 240
    },
    "id": "44FELt4_XUP7",
    "outputId": "a0c5e742-1754-419e-93ce-0cd434ab9ef2"
   },
   "outputs": [
    {
     "name": "stdout",
     "output_type": "stream",
     "text": [
      "/content/drive/My Drive/PoseEstimation/TF-SimpleHumanPose/main\n"
     ]
    }
   ],
   "source": [
    "%cd main"
   ]
  },
  {
   "cell_type": "code",
   "execution_count": null,
   "metadata": {
    "colab": {
     "base_uri": "https://localhost:8080/",
     "height": 4512
    },
    "colab_type": "code",
    "id": "mkoblI3iXc24",
    "outputId": "52be2584-71df-494a-9fd5-1917707adc72"
   },
   "outputs": [
    {
     "name": "stdout",
     "output_type": "stream",
     "text": [
      ">>> Using /gpu:0\n",
      "WARNING:tensorflow:From /usr/local/lib/python3.6/dist-packages/tensorflow/python/framework/op_def_library.py:263: colocate_with (from tensorflow.python.framework.ops) is deprecated and will be removed in a future version.\n",
      "Instructions for updating:\n",
      "Colocations handled automatically by placer.\n",
      "2019-04-13 01:44:36.768038: I tensorflow/core/platform/profile_utils/cpu_utils.cc:94] CPU Frequency: 2200000000 Hz\n",
      "2019-04-13 01:44:36.770871: I tensorflow/compiler/xla/service/service.cc:150] XLA service 0x1a42260 executing computations on platform Host. Devices:\n",
      "2019-04-13 01:44:36.770934: I tensorflow/compiler/xla/service/service.cc:158]   StreamExecutor device (0): <undefined>, <undefined>\n",
      "\u001b[92m04-13 01:44:36\u001b[0m Generating training graph on 1 GPUs ...\n",
      "WARNING:tensorflow:From /content/drive/My Drive/PoseEstimation/TF-SimpleHumanPose/main/model.py:49: to_float (from tensorflow.python.ops.math_ops) is deprecated and will be removed in a future version.\n",
      "Instructions for updating:\n",
      "Use tf.cast instead.\n",
      "loading annotations into memory...\n",
      "Done (t=7.71s)\n",
      "creating index...\n",
      "index created!\n",
      "\u001b[92m04-13 01:45:01\u001b[0m Initialize saver ...\n",
      "\u001b[92m04-13 01:45:02\u001b[0m Initialize all variables ...\n",
      "\u001b[92m04-13 01:45:06\u001b[0m Initialized model weights from /content/drive/My Drive/PoseEstimation/TF-SimpleHumanPose/main/../data/imagenet_weights/resnet_v1_50.ckpt ...\n",
      "WARNING:tensorflow:From /usr/local/lib/python3.6/dist-packages/tensorflow/python/training/saver.py:1266: checkpoint_exists (from tensorflow.python.training.checkpoint_management) is deprecated and will be removed in a future version.\n",
      "Instructions for updating:\n",
      "Use standard file APIs to check for files with this prefix.\n",
      "\u001b[92m04-13 01:45:10\u001b[0m Start training ...\n",
      "\u001b[92m04-13 01:47:09\u001b[0m Epoch 0 itr 1/3312: lr: 0.0005 speed: 0.00(0.00s r0.00)s/itr 0.00h/epoch loss: 182.5290\n",
      "\u001b[92m04-13 01:48:12\u001b[0m Epoch 0 itr 2/3312: lr: 0.0005 speed: 0.00(0.00s r0.00)s/itr 0.00h/epoch loss: 162.1948\n",
      "\u001b[92m04-13 01:49:15\u001b[0m Epoch 0 itr 3/3312: lr: 0.0005 speed: 0.00(0.00s r0.00)s/itr 0.00h/epoch loss: 144.5107\n",
      "\u001b[92m04-13 01:50:17\u001b[0m Epoch 0 itr 4/3312: lr: 0.0005 speed: 0.00(0.00s r0.00)s/itr 0.00h/epoch loss: 175.0833\n",
      "\u001b[92m04-13 01:51:19\u001b[0m Epoch 0 itr 5/3312: lr: 0.0005 speed: 0.00(0.00s r0.00)s/itr 0.00h/epoch loss: 140.4279\n",
      "\u001b[92m04-13 01:52:22\u001b[0m Epoch 0 itr 6/3312: lr: 0.0005 speed: 0.00(0.00s r0.00)s/itr 0.00h/epoch loss: 155.2059\n",
      "\u001b[92m04-13 01:53:25\u001b[0m Epoch 0 itr 7/3312: lr: 0.0005 speed: 0.00(0.00s r0.00)s/itr 0.00h/epoch loss: 145.6610\n",
      "\u001b[92m04-13 01:54:27\u001b[0m Epoch 0 itr 8/3312: lr: 0.0005 speed: 0.00(0.00s r0.00)s/itr 0.00h/epoch loss: 154.2291\n",
      "\u001b[92m04-13 01:55:28\u001b[0m Epoch 0 itr 9/3312: lr: 0.0005 speed: 0.00(0.00s r0.00)s/itr 0.00h/epoch loss: 162.3542\n",
      "\u001b[92m04-13 01:56:30\u001b[0m Epoch 0 itr 10/3312: lr: 0.0005 speed: 0.00(0.00s r0.00)s/itr 0.00h/epoch loss: 154.5135\n",
      "\u001b[92m04-13 01:57:31\u001b[0m Epoch 0 itr 11/3312: lr: 0.0005 speed: 0.00(49.17s r12.43)s/itr 0.00h/epoch loss: 173.2022\n",
      "\u001b[92m04-13 01:58:33\u001b[0m Epoch 0 itr 12/3312: lr: 0.0005 speed: 61.61(49.21s r12.40)s/itr 56.68h/epoch loss: 155.3008\n",
      "\u001b[92m04-13 01:59:34\u001b[0m Epoch 0 itr 13/3312: lr: 0.0005 speed: 61.61(49.23s r12.04)s/itr 56.68h/epoch loss: 165.1055\n",
      "\u001b[92m04-13 02:00:33\u001b[0m Epoch 0 itr 14/3312: lr: 0.0005 speed: 61.27(49.33s r11.55)s/itr 56.37h/epoch loss: 117.2256\n",
      "\u001b[92m04-13 02:01:38\u001b[0m Epoch 0 itr 15/3312: lr: 0.0005 speed: 60.88(49.28s r12.30)s/itr 56.01h/epoch loss: 143.6909\n",
      "\u001b[92m04-13 02:02:38\u001b[0m Epoch 0 itr 16/3312: lr: 0.0005 speed: 61.58(49.22s r12.18)s/itr 56.66h/epoch loss: 150.5417\n",
      "\u001b[92m04-13 02:03:39\u001b[0m Epoch 0 itr 17/3312: lr: 0.0005 speed: 61.41(49.07s r12.21)s/itr 56.49h/epoch loss: 138.1450\n",
      "\u001b[92m04-13 02:04:39\u001b[0m Epoch 0 itr 18/3312: lr: 0.0005 speed: 61.28(49.01s r12.10)s/itr 56.38h/epoch loss: 150.6912\n",
      "\u001b[92m04-13 02:05:37\u001b[0m Epoch 0 itr 19/3312: lr: 0.0005 speed: 61.11(49.03s r11.79)s/itr 56.22h/epoch loss: 160.9211\n",
      "\u001b[92m04-13 02:06:35\u001b[0m Epoch 0 itr 20/3312: lr: 0.0005 speed: 60.82(48.98s r11.59)s/itr 55.95h/epoch loss: 146.7412\n",
      "\u001b[92m04-13 02:07:36\u001b[0m Epoch 0 itr 21/3312: lr: 0.0005 speed: 60.57(49.03s r11.51)s/itr 55.72h/epoch loss: 137.7763\n",
      "\u001b[92m04-13 02:08:35\u001b[0m Epoch 0 itr 22/3312: lr: 0.0005 speed: 60.54(49.05s r11.35)s/itr 55.70h/epoch loss: 159.4061\n",
      "\u001b[92m04-13 02:09:34\u001b[0m Epoch 0 itr 23/3312: lr: 0.0005 speed: 60.41(49.09s r11.21)s/itr 55.57h/epoch loss: 167.8826\n",
      "\u001b[92m04-13 02:10:32\u001b[0m Epoch 0 itr 24/3312: lr: 0.0005 speed: 60.29(49.14s r11.02)s/itr 55.47h/epoch loss: 140.6548\n",
      "\u001b[92m04-13 02:11:32\u001b[0m Epoch 0 itr 25/3312: lr: 0.0005 speed: 60.16(49.16s r10.98)s/itr 55.35h/epoch loss: 149.4941\n",
      "\u001b[92m04-13 02:12:31\u001b[0m Epoch 0 itr 26/3312: lr: 0.0005 speed: 60.14(49.15s r10.94)s/itr 55.32h/epoch loss: 139.0387\n",
      "\u001b[92m04-13 02:13:31\u001b[0m Epoch 0 itr 27/3312: lr: 0.0005 speed: 60.08(49.13s r10.92)s/itr 55.28h/epoch loss: 163.3571\n",
      "\u001b[92m04-13 02:14:31\u001b[0m Epoch 0 itr 28/3312: lr: 0.0005 speed: 60.06(49.09s r10.98)s/itr 55.25h/epoch loss: 153.7764\n",
      "\u001b[92m04-13 02:15:31\u001b[0m Epoch 0 itr 29/3312: lr: 0.0005 speed: 60.07(49.11s r10.93)s/itr 55.26h/epoch loss: 158.7099\n",
      "\u001b[92m04-13 02:16:30\u001b[0m Epoch 0 itr 30/3312: lr: 0.0005 speed: 60.04(49.08s r10.91)s/itr 55.24h/epoch loss: 142.9808\n",
      "\u001b[92m04-13 02:17:27\u001b[0m Epoch 0 itr 31/3312: lr: 0.0005 speed: 59.99(49.06s r10.82)s/itr 55.19h/epoch loss: 165.0720\n",
      "\u001b[92m04-13 02:18:32\u001b[0m Epoch 0 itr 32/3312: lr: 0.0005 speed: 59.88(49.02s r11.09)s/itr 55.09h/epoch loss: 140.7179\n",
      "\u001b[92m04-13 02:19:32\u001b[0m Epoch 0 itr 33/3312: lr: 0.0005 speed: 60.11(49.00s r11.08)s/itr 55.30h/epoch loss: 144.4546\n",
      "\u001b[92m04-13 02:20:30\u001b[0m Epoch 0 itr 34/3312: lr: 0.0005 speed: 60.08(48.98s r11.03)s/itr 55.27h/epoch loss: 138.7052\n",
      "\u001b[92m04-13 02:21:27\u001b[0m Epoch 0 itr 35/3312: lr: 0.0005 speed: 60.01(48.96s r10.92)s/itr 55.21h/epoch loss: 141.6521\n",
      "\u001b[92m04-13 02:22:26\u001b[0m Epoch 0 itr 36/3312: lr: 0.0005 speed: 59.89(48.96s r10.88)s/itr 55.10h/epoch loss: 139.0966\n",
      "\u001b[92m04-13 02:23:24\u001b[0m Epoch 0 itr 37/3312: lr: 0.0005 speed: 59.84(48.96s r10.81)s/itr 55.05h/epoch loss: 142.3397\n",
      "\u001b[92m04-13 02:24:22\u001b[0m Epoch 0 itr 38/3312: lr: 0.0005 speed: 59.77(48.96s r10.76)s/itr 54.99h/epoch loss: 124.9473\n",
      "\u001b[92m04-13 02:25:21\u001b[0m Epoch 0 itr 39/3312: lr: 0.0005 speed: 59.72(48.96s r10.72)s/itr 54.94h/epoch loss: 152.9104\n",
      "\u001b[92m04-13 02:26:18\u001b[0m Epoch 0 itr 40/3312: lr: 0.0005 speed: 59.68(48.97s r10.65)s/itr 54.91h/epoch loss: 137.2803\n",
      "\u001b[92m04-13 02:27:17\u001b[0m Epoch 0 itr 41/3312: lr: 0.0005 speed: 59.62(48.96s r10.62)s/itr 54.85h/epoch loss: 146.1978\n",
      "\u001b[92m04-13 02:28:14\u001b[0m Epoch 0 itr 42/3312: lr: 0.0005 speed: 59.58(48.96s r10.55)s/itr 54.82h/epoch loss: 144.1837\n",
      "\u001b[92m04-13 02:29:11\u001b[0m Epoch 0 itr 43/3312: lr: 0.0005 speed: 59.51(48.95s r10.47)s/itr 54.74h/epoch loss: 162.0179\n",
      "\u001b[92m04-13 02:30:09\u001b[0m Epoch 0 itr 44/3312: lr: 0.0005 speed: 59.43(48.95s r10.43)s/itr 54.67h/epoch loss: 133.8242\n",
      "\u001b[92m04-13 02:31:07\u001b[0m Epoch 0 itr 45/3312: lr: 0.0005 speed: 59.38(48.96s r10.38)s/itr 54.63h/epoch loss: 149.3861\n",
      "\u001b[92m04-13 02:32:03\u001b[0m Epoch 0 itr 46/3312: lr: 0.0005 speed: 59.34(48.95s r10.32)s/itr 54.60h/epoch loss: 140.1593\n",
      "\u001b[92m04-13 02:33:01\u001b[0m Epoch 0 itr 47/3312: lr: 0.0005 speed: 59.27(48.94s r10.27)s/itr 54.53h/epoch loss: 144.5466\n",
      "\u001b[92m04-13 02:33:58\u001b[0m Epoch 0 itr 48/3312: lr: 0.0005 speed: 59.22(48.94s r10.21)s/itr 54.48h/epoch loss: 146.5419\n",
      "\u001b[92m04-13 02:34:55\u001b[0m Epoch 0 itr 49/3312: lr: 0.0005 speed: 59.15(48.94s r10.17)s/itr 54.42h/epoch loss: 141.5030\n",
      "\u001b[92m04-13 02:35:53\u001b[0m Epoch 0 itr 50/3312: lr: 0.0005 speed: 59.11(48.93s r10.16)s/itr 54.38h/epoch loss: 122.1598\n",
      "\u001b[92m04-13 02:36:51\u001b[0m Epoch 0 itr 51/3312: lr: 0.0005 speed: 59.09(48.94s r10.12)s/itr 54.36h/epoch loss: 143.6629\n",
      "\u001b[92m04-13 02:37:48\u001b[0m Epoch 0 itr 52/3312: lr: 0.0005 speed: 59.06(48.94s r10.06)s/itr 54.33h/epoch loss: 143.2483\n",
      "\u001b[92m04-13 02:38:44\u001b[0m Epoch 0 itr 53/3312: lr: 0.0005 speed: 59.00(48.93s r10.01)s/itr 54.28h/epoch loss: 149.1318\n",
      "\u001b[92m04-13 02:39:43\u001b[0m Epoch 0 itr 54/3312: lr: 0.0005 speed: 58.94(48.93s r10.00)s/itr 54.22h/epoch loss: 152.9570\n",
      "\u001b[92m04-13 02:40:41\u001b[0m Epoch 0 itr 55/3312: lr: 0.0005 speed: 58.93(48.93s r9.98)s/itr 54.21h/epoch loss: 139.6633\n",
      "\u001b[92m04-13 02:41:38\u001b[0m Epoch 0 itr 56/3312: lr: 0.0005 speed: 58.91(48.93s r9.94)s/itr 54.19h/epoch loss: 142.4840\n",
      "\u001b[92m04-13 02:42:34\u001b[0m Epoch 0 itr 57/3312: lr: 0.0005 speed: 58.87(48.93s r9.88)s/itr 54.16h/epoch loss: 136.5982\n",
      "\u001b[92m04-13 02:43:31\u001b[0m Epoch 0 itr 58/3312: lr: 0.0005 speed: 58.81(48.93s r9.84)s/itr 54.11h/epoch loss: 126.6169\n",
      "\u001b[92m04-13 02:44:27\u001b[0m Epoch 0 itr 59/3312: lr: 0.0005 speed: 58.77(48.93s r9.79)s/itr 54.07h/epoch loss: 131.9998\n",
      "\u001b[92m04-13 02:45:24\u001b[0m Epoch 0 itr 60/3312: lr: 0.0005 speed: 58.72(48.92s r9.77)s/itr 54.02h/epoch loss: 130.0813\n",
      "\u001b[92m04-13 02:46:21\u001b[0m Epoch 0 itr 61/3312: lr: 0.0005 speed: 58.69(48.92s r9.73)s/itr 53.99h/epoch loss: 150.0527\n",
      "\u001b[92m04-13 02:47:19\u001b[0m Epoch 0 itr 62/3312: lr: 0.0005 speed: 58.65(48.93s r9.70)s/itr 53.96h/epoch loss: 133.2365\n",
      "\u001b[92m04-13 02:48:16\u001b[0m Epoch 0 itr 63/3312: lr: 0.0005 speed: 58.63(48.93s r9.68)s/itr 53.94h/epoch loss: 138.3885\n",
      "\u001b[92m04-13 02:49:12\u001b[0m Epoch 0 itr 64/3312: lr: 0.0005 speed: 58.62(48.93s r9.63)s/itr 53.93h/epoch loss: 156.3697\n",
      "\u001b[92m04-13 02:50:09\u001b[0m Epoch 0 itr 65/3312: lr: 0.0005 speed: 58.56(48.93s r9.60)s/itr 53.88h/epoch loss: 144.4788\n",
      "\u001b[92m04-13 02:51:05\u001b[0m Epoch 0 itr 66/3312: lr: 0.0005 speed: 58.53(48.94s r9.54)s/itr 53.85h/epoch loss: 133.9821\n",
      "\u001b[92m04-13 02:52:03\u001b[0m Epoch 0 itr 67/3312: lr: 0.0005 speed: 58.48(48.96s r9.53)s/itr 53.80h/epoch loss: 152.9579\n",
      "\u001b[92m04-13 02:53:00\u001b[0m Epoch 0 itr 68/3312: lr: 0.0005 speed: 58.48(48.97s r9.49)s/itr 53.81h/epoch loss: 144.7811\n",
      "\u001b[92m04-13 02:53:58\u001b[0m Epoch 0 itr 69/3312: lr: 0.0005 speed: 58.46(48.97s r9.47)s/itr 53.78h/epoch loss: 140.9443\n",
      "\u001b[92m04-13 02:54:53\u001b[0m Epoch 0 itr 70/3312: lr: 0.0005 speed: 58.44(48.97s r9.42)s/itr 53.76h/epoch loss: 143.4940\n",
      "\u001b[92m04-13 02:55:51\u001b[0m Epoch 0 itr 71/3312: lr: 0.0005 speed: 58.39(48.97s r9.41)s/itr 53.72h/epoch loss: 131.0880\n",
      "\u001b[92m04-13 02:56:46\u001b[0m Epoch 0 itr 72/3312: lr: 0.0005 speed: 58.38(48.98s r9.35)s/itr 53.71h/epoch loss: 127.1914\n",
      "\u001b[92m04-13 02:57:43\u001b[0m Epoch 0 itr 73/3312: lr: 0.0005 speed: 58.33(48.99s r9.32)s/itr 53.67h/epoch loss: 135.8279\n",
      "\u001b[92m04-13 02:58:39\u001b[0m Epoch 0 itr 74/3312: lr: 0.0005 speed: 58.30(48.99s r9.28)s/itr 53.64h/epoch loss: 138.9421\n",
      "\u001b[92m04-13 02:59:33\u001b[0m Epoch 0 itr 75/3312: lr: 0.0005 speed: 58.27(49.00s r9.21)s/itr 53.61h/epoch loss: 140.1297\n",
      "\u001b[92m04-13 03:00:30\u001b[0m Epoch 0 itr 76/3312: lr: 0.0005 speed: 58.21(49.00s r9.18)s/itr 53.55h/epoch loss: 152.7432\n",
      "\u001b[92m04-13 03:01:26\u001b[0m Epoch 0 itr 77/3312: lr: 0.0005 speed: 58.18(49.01s r9.15)s/itr 53.53h/epoch loss: 127.1680\n",
      "\u001b[92m04-13 03:02:24\u001b[0m Epoch 0 itr 78/3312: lr: 0.0005 speed: 58.16(49.02s r9.13)s/itr 53.51h/epoch loss: 143.4778\n",
      "\u001b[92m04-13 03:03:20\u001b[0m Epoch 0 itr 79/3312: lr: 0.0005 speed: 58.16(49.02s r9.10)s/itr 53.50h/epoch loss: 128.2474\n",
      "\u001b[92m04-13 03:04:15\u001b[0m Epoch 0 itr 80/3312: lr: 0.0005 speed: 58.12(49.02s r9.05)s/itr 53.47h/epoch loss: 149.2660\n",
      "\u001b[92m04-13 03:05:11\u001b[0m Epoch 0 itr 81/3312: lr: 0.0005 speed: 58.07(49.03s r9.02)s/itr 53.43h/epoch loss: 142.5060\n",
      "\u001b[92m04-13 03:06:06\u001b[0m Epoch 0 itr 82/3312: lr: 0.0005 speed: 58.05(49.04s r8.96)s/itr 53.40h/epoch loss: 142.3842\n",
      "\u001b[92m04-13 03:07:04\u001b[0m Epoch 0 itr 83/3312: lr: 0.0005 speed: 58.00(49.04s r8.96)s/itr 53.36h/epoch loss: 137.4997\n",
      "\u001b[92m04-13 03:08:00\u001b[0m Epoch 0 itr 84/3312: lr: 0.0005 speed: 58.01(49.06s r8.92)s/itr 53.36h/epoch loss: 137.8638\n",
      "\u001b[92m04-13 03:08:56\u001b[0m Epoch 0 itr 85/3312: lr: 0.0005 speed: 57.98(49.07s r8.88)s/itr 53.34h/epoch loss: 125.8103\n",
      "\u001b[92m04-13 03:09:53\u001b[0m Epoch 0 itr 86/3312: lr: 0.0005 speed: 57.94(49.07s r8.86)s/itr 53.31h/epoch loss: 132.3211\n",
      "\u001b[92m04-13 03:10:50\u001b[0m Epoch 0 itr 87/3312: lr: 0.0005 speed: 57.93(49.09s r8.84)s/itr 53.30h/epoch loss: 147.3825\n",
      "\u001b[92m04-13 03:11:50\u001b[0m Epoch 0 itr 88/3312: lr: 0.0005 speed: 57.93(49.10s r8.85)s/itr 53.29h/epoch loss: 127.8972\n",
      "\u001b[92m04-13 03:12:47\u001b[0m Epoch 0 itr 89/3312: lr: 0.0005 speed: 57.95(49.11s r8.83)s/itr 53.32h/epoch loss: 127.7780\n",
      "\u001b[92m04-13 03:13:43\u001b[0m Epoch 0 itr 90/3312: lr: 0.0005 speed: 57.94(49.11s r8.80)s/itr 53.30h/epoch loss: 128.5084\n",
      "\u001b[92m04-13 03:14:39\u001b[0m Epoch 0 itr 91/3312: lr: 0.0005 speed: 57.91(49.11s r8.79)s/itr 53.28h/epoch loss: 143.6363\n",
      "\u001b[92m04-13 03:15:36\u001b[0m Epoch 0 itr 92/3312: lr: 0.0005 speed: 57.90(49.11s r8.77)s/itr 53.26h/epoch loss: 145.0955\n",
      "\u001b[92m04-13 03:16:30\u001b[0m Epoch 0 itr 93/3312: lr: 0.0005 speed: 57.89(49.11s r8.72)s/itr 53.26h/epoch loss: 120.1602\n",
      "\u001b[92m04-13 03:17:25\u001b[0m Epoch 0 itr 94/3312: lr: 0.0005 speed: 57.83(49.11s r8.68)s/itr 53.20h/epoch loss: 126.7534\n",
      "\u001b[92m04-13 03:18:20\u001b[0m Epoch 0 itr 95/3312: lr: 0.0005 speed: 57.80(49.12s r8.64)s/itr 53.18h/epoch loss: 136.1780\n",
      "\u001b[92m04-13 03:19:15\u001b[0m Epoch 0 itr 96/3312: lr: 0.0005 speed: 57.76(49.12s r8.62)s/itr 53.14h/epoch loss: 133.6451\n",
      "\u001b[92m04-13 03:20:11\u001b[0m Epoch 0 itr 97/3312: lr: 0.0005 speed: 57.74(49.12s r8.60)s/itr 53.12h/epoch loss: 130.8528\n",
      "\u001b[92m04-13 03:21:07\u001b[0m Epoch 0 itr 98/3312: lr: 0.0005 speed: 57.72(49.12s r8.58)s/itr 53.10h/epoch loss: 127.2986\n",
      "\u001b[92m04-13 03:22:03\u001b[0m Epoch 0 itr 99/3312: lr: 0.0005 speed: 57.70(49.11s r8.56)s/itr 53.09h/epoch loss: 119.4478\n",
      "\u001b[92m04-13 03:23:02\u001b[0m Epoch 0 itr 100/3312: lr: 0.0005 speed: 57.67(49.12s r8.57)s/itr 53.06h/epoch loss: 141.7072\n",
      "\u001b[92m04-13 03:23:58\u001b[0m Epoch 0 itr 101/3312: lr: 0.0005 speed: 57.70(49.13s r8.55)s/itr 53.08h/epoch loss: 134.3900\n",
      "\u001b[92m04-13 03:24:53\u001b[0m Epoch 0 itr 102/3312: lr: 0.0005 speed: 57.68(49.14s r8.51)s/itr 53.06h/epoch loss: 126.6098\n",
      "\u001b[92m04-13 03:25:48\u001b[0m Epoch 0 itr 103/3312: lr: 0.0005 speed: 57.65(49.15s r8.46)s/itr 53.04h/epoch loss: 128.8667\n",
      "\u001b[92m04-13 03:26:45\u001b[0m Epoch 0 itr 104/3312: lr: 0.0005 speed: 57.61(49.16s r8.45)s/itr 53.00h/epoch loss: 130.9556\n",
      "\u001b[92m04-13 03:27:41\u001b[0m Epoch 0 itr 105/3312: lr: 0.0005 speed: 57.61(49.17s r8.42)s/itr 53.00h/epoch loss: 142.4045\n",
      "\u001b[92m04-13 03:28:38\u001b[0m Epoch 0 itr 106/3312: lr: 0.0005 speed: 57.59(49.19s r8.40)s/itr 52.98h/epoch loss: 132.7236\n",
      "\u001b[92m04-13 03:29:34\u001b[0m Epoch 0 itr 107/3312: lr: 0.0005 speed: 57.59(49.20s r8.37)s/itr 52.98h/epoch loss: 127.8938\n",
      "\u001b[92m04-13 03:30:32\u001b[0m Epoch 0 itr 108/3312: lr: 0.0005 speed: 57.57(49.20s r8.37)s/itr 52.97h/epoch loss: 144.9368\n",
      "\u001b[92m04-13 03:31:28\u001b[0m Epoch 0 itr 109/3312: lr: 0.0005 speed: 57.57(49.21s r8.34)s/itr 52.97h/epoch loss: 129.0475\n",
      "\u001b[92m04-13 03:32:26\u001b[0m Epoch 0 itr 110/3312: lr: 0.0005 speed: 57.56(49.23s r8.34)s/itr 52.95h/epoch loss: 131.3295\n",
      "\u001b[92m04-13 03:33:22\u001b[0m Epoch 0 itr 111/3312: lr: 0.0005 speed: 57.56(49.24s r8.30)s/itr 52.96h/epoch loss: 137.0388\n",
      "\u001b[92m04-13 03:34:17\u001b[0m Epoch 0 itr 112/3312: lr: 0.0005 speed: 57.54(49.25s r8.27)s/itr 52.94h/epoch loss: 120.8589\n",
      "\u001b[92m04-13 03:35:12\u001b[0m Epoch 0 itr 113/3312: lr: 0.0005 speed: 57.52(49.26s r8.23)s/itr 52.92h/epoch loss: 133.8062\n",
      "\u001b[92m04-13 03:36:07\u001b[0m Epoch 0 itr 114/3312: lr: 0.0005 speed: 57.50(49.27s r8.21)s/itr 52.90h/epoch loss: 139.5741\n",
      "\u001b[92m04-13 03:37:03\u001b[0m Epoch 0 itr 115/3312: lr: 0.0005 speed: 57.48(49.27s r8.19)s/itr 52.88h/epoch loss: 117.2837\n",
      "\u001b[92m04-13 03:37:58\u001b[0m Epoch 0 itr 116/3312: lr: 0.0005 speed: 57.46(49.28s r8.16)s/itr 52.86h/epoch loss: 131.6242\n",
      "\u001b[92m04-13 03:38:54\u001b[0m Epoch 0 itr 117/3312: lr: 0.0005 speed: 57.44(49.29s r8.14)s/itr 52.84h/epoch loss: 154.0382\n",
      "\u001b[92m04-13 03:39:50\u001b[0m Epoch 0 itr 118/3312: lr: 0.0005 speed: 57.43(49.29s r8.12)s/itr 52.83h/epoch loss: 134.1118\n",
      "\u001b[92m04-13 03:40:45\u001b[0m Epoch 0 itr 119/3312: lr: 0.0005 speed: 57.41(49.30s r8.09)s/itr 52.82h/epoch loss: 135.3085\n",
      "\u001b[92m04-13 03:41:41\u001b[0m Epoch 0 itr 120/3312: lr: 0.0005 speed: 57.39(49.31s r8.07)s/itr 52.80h/epoch loss: 122.1311\n",
      "\u001b[92m04-13 03:42:36\u001b[0m Epoch 0 itr 121/3312: lr: 0.0005 speed: 57.37(49.31s r8.05)s/itr 52.78h/epoch loss: 131.7250\n",
      "\u001b[92m04-13 03:43:31\u001b[0m Epoch 0 itr 122/3312: lr: 0.0005 speed: 57.36(49.31s r8.02)s/itr 52.77h/epoch loss: 130.9289\n",
      "\u001b[92m04-13 03:44:27\u001b[0m Epoch 0 itr 123/3312: lr: 0.0005 speed: 57.33(49.32s r8.00)s/itr 52.75h/epoch loss: 123.2559\n",
      "\u001b[92m04-13 03:45:24\u001b[0m Epoch 0 itr 124/3312: lr: 0.0005 speed: 57.32(49.32s r7.99)s/itr 52.74h/epoch loss: 132.0145\n",
      "\u001b[92m04-13 03:46:19\u001b[0m Epoch 0 itr 125/3312: lr: 0.0005 speed: 57.31(49.33s r7.97)s/itr 52.73h/epoch loss: 121.7322\n",
      "\u001b[92m04-13 03:47:16\u001b[0m Epoch 0 itr 126/3312: lr: 0.0005 speed: 57.30(49.34s r7.96)s/itr 52.72h/epoch loss: 127.2567\n",
      "\u001b[92m04-13 03:48:12\u001b[0m Epoch 0 itr 127/3312: lr: 0.0005 speed: 57.29(49.35s r7.94)s/itr 52.71h/epoch loss: 134.4346\n",
      "\u001b[92m04-13 03:49:06\u001b[0m Epoch 0 itr 128/3312: lr: 0.0005 speed: 57.28(49.35s r7.91)s/itr 52.70h/epoch loss: 129.5015\n",
      "\u001b[92m04-13 03:50:00\u001b[0m Epoch 0 itr 129/3312: lr: 0.0005 speed: 57.26(49.35s r7.88)s/itr 52.68h/epoch loss: 126.7128\n",
      "\u001b[92m04-13 03:50:56\u001b[0m Epoch 0 itr 130/3312: lr: 0.0005 speed: 57.23(49.36s r7.86)s/itr 52.65h/epoch loss: 131.8861\n",
      "\u001b[92m04-13 03:51:51\u001b[0m Epoch 0 itr 131/3312: lr: 0.0005 speed: 57.22(49.36s r7.84)s/itr 52.64h/epoch loss: 126.7780\n",
      "\u001b[92m04-13 03:52:48\u001b[0m Epoch 0 itr 132/3312: lr: 0.0005 speed: 57.20(49.37s r7.83)s/itr 52.63h/epoch loss: 132.2028\n",
      "\u001b[92m04-13 03:53:44\u001b[0m Epoch 0 itr 133/3312: lr: 0.0005 speed: 57.20(49.38s r7.81)s/itr 52.62h/epoch loss: 118.8707\n",
      "\u001b[92m04-13 03:54:41\u001b[0m Epoch 0 itr 134/3312: lr: 0.0005 speed: 57.19(49.39s r7.80)s/itr 52.62h/epoch loss: 137.4981\n",
      "\u001b[92m04-13 03:55:38\u001b[0m Epoch 0 itr 135/3312: lr: 0.0005 speed: 57.19(49.39s r7.79)s/itr 52.62h/epoch loss: 125.5982\n",
      "\u001b[92m04-13 03:56:34\u001b[0m Epoch 0 itr 136/3312: lr: 0.0005 speed: 57.19(49.40s r7.77)s/itr 52.61h/epoch loss: 132.9607\n",
      "\u001b[92m04-13 03:57:31\u001b[0m Epoch 0 itr 137/3312: lr: 0.0005 speed: 57.17(49.41s r7.77)s/itr 52.60h/epoch loss: 124.8783\n",
      "\u001b[92m04-13 03:58:27\u001b[0m Epoch 0 itr 138/3312: lr: 0.0005 speed: 57.17(49.41s r7.75)s/itr 52.60h/epoch loss: 114.8269\n",
      "\u001b[92m04-13 03:59:23\u001b[0m Epoch 0 itr 139/3312: lr: 0.0005 speed: 57.16(49.42s r7.74)s/itr 52.59h/epoch loss: 134.6185\n",
      "\u001b[92m04-13 04:00:19\u001b[0m Epoch 0 itr 140/3312: lr: 0.0005 speed: 57.16(49.42s r7.72)s/itr 52.58h/epoch loss: 136.5462\n",
      "\u001b[92m04-13 04:01:14\u001b[0m Epoch 0 itr 141/3312: lr: 0.0005 speed: 57.15(49.43s r7.70)s/itr 52.57h/epoch loss: 117.3431\n",
      "\u001b[92m04-13 04:02:09\u001b[0m Epoch 0 itr 142/3312: lr: 0.0005 speed: 57.13(49.43s r7.69)s/itr 52.56h/epoch loss: 135.5508\n",
      "\u001b[92m04-13 04:03:05\u001b[0m Epoch 0 itr 143/3312: lr: 0.0005 speed: 57.12(49.43s r7.68)s/itr 52.55h/epoch loss: 139.0577\n",
      "\u001b[92m04-13 04:04:00\u001b[0m Epoch 0 itr 144/3312: lr: 0.0005 speed: 57.10(49.42s r7.67)s/itr 52.54h/epoch loss: 123.7109\n",
      "\u001b[92m04-13 04:04:54\u001b[0m Epoch 0 itr 145/3312: lr: 0.0005 speed: 57.09(49.42s r7.64)s/itr 52.52h/epoch loss: 122.7376\n",
      "\u001b[92m04-13 04:05:48\u001b[0m Epoch 0 itr 146/3312: lr: 0.0005 speed: 57.07(49.42s r7.63)s/itr 52.50h/epoch loss: 119.0559\n",
      "\u001b[92m04-13 04:06:42\u001b[0m Epoch 0 itr 147/3312: lr: 0.0005 speed: 57.04(49.41s r7.61)s/itr 52.48h/epoch loss: 121.6570\n",
      "\u001b[92m04-13 04:07:36\u001b[0m Epoch 0 itr 148/3312: lr: 0.0005 speed: 57.02(49.41s r7.59)s/itr 52.46h/epoch loss: 121.7294\n",
      "\u001b[92m04-13 04:08:29\u001b[0m Epoch 0 itr 149/3312: lr: 0.0005 speed: 57.00(49.41s r7.57)s/itr 52.44h/epoch loss: 129.2102\n",
      "\u001b[92m04-13 04:09:23\u001b[0m Epoch 0 itr 150/3312: lr: 0.0005 speed: 56.98(49.41s r7.55)s/itr 52.42h/epoch loss: 138.8347\n",
      "\u001b[92m04-13 04:10:18\u001b[0m Epoch 0 itr 151/3312: lr: 0.0005 speed: 56.95(49.41s r7.53)s/itr 52.40h/epoch loss: 129.2159\n",
      "\u001b[92m04-13 04:11:12\u001b[0m Epoch 0 itr 152/3312: lr: 0.0005 speed: 56.94(49.40s r7.51)s/itr 52.38h/epoch loss: 126.1443\n",
      "\u001b[92m04-13 04:12:05\u001b[0m Epoch 0 itr 153/3312: lr: 0.0005 speed: 56.92(49.40s r7.49)s/itr 52.36h/epoch loss: 113.3389\n",
      "\u001b[92m04-13 04:13:00\u001b[0m Epoch 0 itr 154/3312: lr: 0.0005 speed: 56.89(49.40s r7.48)s/itr 52.34h/epoch loss: 120.2077\n",
      "\u001b[92m04-13 04:13:53\u001b[0m Epoch 0 itr 155/3312: lr: 0.0005 speed: 56.88(49.39s r7.46)s/itr 52.33h/epoch loss: 111.7905\n",
      "\u001b[92m04-13 04:14:46\u001b[0m Epoch 0 itr 156/3312: lr: 0.0005 speed: 56.85(49.39s r7.43)s/itr 52.30h/epoch loss: 127.2128\n",
      "\u001b[92m04-13 04:15:39\u001b[0m Epoch 0 itr 157/3312: lr: 0.0005 speed: 56.83(49.39s r7.41)s/itr 52.28h/epoch loss: 123.4447\n",
      "\u001b[92m04-13 04:16:33\u001b[0m Epoch 0 itr 158/3312: lr: 0.0005 speed: 56.80(49.38s r7.40)s/itr 52.26h/epoch loss: 111.3487\n",
      "\u001b[92m04-13 04:17:26\u001b[0m Epoch 0 itr 159/3312: lr: 0.0005 speed: 56.78(49.38s r7.38)s/itr 52.24h/epoch loss: 116.8017\n",
      "\u001b[92m04-13 04:18:21\u001b[0m Epoch 0 itr 160/3312: lr: 0.0005 speed: 56.75(49.37s r7.37)s/itr 52.21h/epoch loss: 132.5337\n",
      "\u001b[92m04-13 04:19:14\u001b[0m Epoch 0 itr 161/3312: lr: 0.0005 speed: 56.74(49.36s r7.35)s/itr 52.20h/epoch loss: 113.6857\n",
      "\u001b[92m04-13 04:20:08\u001b[0m Epoch 0 itr 162/3312: lr: 0.0005 speed: 56.72(49.36s r7.34)s/itr 52.18h/epoch loss: 117.2519\n",
      "\u001b[92m04-13 04:21:02\u001b[0m Epoch 0 itr 163/3312: lr: 0.0005 speed: 56.70(49.35s r7.33)s/itr 52.16h/epoch loss: 140.5000\n",
      "\u001b[92m04-13 04:21:56\u001b[0m Epoch 0 itr 164/3312: lr: 0.0005 speed: 56.68(49.34s r7.32)s/itr 52.15h/epoch loss: 136.2704\n",
      "\u001b[92m04-13 04:22:49\u001b[0m Epoch 0 itr 165/3312: lr: 0.0005 speed: 56.66(49.34s r7.30)s/itr 52.13h/epoch loss: 119.3635\n",
      "\u001b[92m04-13 04:23:41\u001b[0m Epoch 0 itr 166/3312: lr: 0.0005 speed: 56.64(49.33s r7.28)s/itr 52.11h/epoch loss: 133.8999\n",
      "\u001b[92m04-13 04:24:34\u001b[0m Epoch 0 itr 167/3312: lr: 0.0005 speed: 56.61(49.33s r7.26)s/itr 52.08h/epoch loss: 98.6975\n",
      "\u001b[92m04-13 04:25:28\u001b[0m Epoch 0 itr 168/3312: lr: 0.0005 speed: 56.59(49.32s r7.24)s/itr 52.06h/epoch loss: 120.2603\n",
      "\u001b[92m04-13 04:26:23\u001b[0m Epoch 0 itr 169/3312: lr: 0.0005 speed: 56.57(49.32s r7.24)s/itr 52.04h/epoch loss: 109.4608\n",
      "\u001b[92m04-13 04:27:16\u001b[0m Epoch 0 itr 170/3312: lr: 0.0005 speed: 56.56(49.32s r7.22)s/itr 52.04h/epoch loss: 100.6238\n",
      "\u001b[92m04-13 04:28:09\u001b[0m Epoch 0 itr 171/3312: lr: 0.0005 speed: 56.54(49.31s r7.21)s/itr 52.02h/epoch loss: 145.8067\n",
      "\u001b[92m04-13 04:29:03\u001b[0m Epoch 0 itr 172/3312: lr: 0.0005 speed: 56.52(49.31s r7.19)s/itr 52.00h/epoch loss: 123.7101\n",
      "\u001b[92m04-13 04:29:55\u001b[0m Epoch 0 itr 173/3312: lr: 0.0005 speed: 56.50(49.30s r7.17)s/itr 51.98h/epoch loss: 138.0068\n",
      "\u001b[92m04-13 04:30:49\u001b[0m Epoch 0 itr 174/3312: lr: 0.0005 speed: 56.47(49.30s r7.16)s/itr 51.96h/epoch loss: 118.1365\n",
      "\u001b[92m04-13 04:31:41\u001b[0m Epoch 0 itr 175/3312: lr: 0.0005 speed: 56.46(49.30s r7.13)s/itr 51.94h/epoch loss: 108.7486\n",
      "\u001b[92m04-13 04:32:33\u001b[0m Epoch 0 itr 176/3312: lr: 0.0005 speed: 56.43(49.29s r7.11)s/itr 51.92h/epoch loss: 118.2840\n",
      "\u001b[92m04-13 04:33:26\u001b[0m Epoch 0 itr 177/3312: lr: 0.0005 speed: 56.41(49.29s r7.10)s/itr 51.89h/epoch loss: 120.9267\n",
      "\u001b[92m04-13 04:34:16\u001b[0m Epoch 0 itr 178/3312: lr: 0.0005 speed: 56.38(49.28s r7.06)s/itr 51.87h/epoch loss: 134.7582\n",
      "\u001b[92m04-13 04:35:09\u001b[0m Epoch 0 itr 179/3312: lr: 0.0005 speed: 56.34(49.27s r7.05)s/itr 51.84h/epoch loss: 108.8180\n",
      "\u001b[92m04-13 04:36:02\u001b[0m Epoch 0 itr 180/3312: lr: 0.0005 speed: 56.32(49.27s r7.03)s/itr 51.82h/epoch loss: 118.2382\n",
      "\u001b[92m04-13 04:36:55\u001b[0m Epoch 0 itr 181/3312: lr: 0.0005 speed: 56.30(49.26s r7.02)s/itr 51.80h/epoch loss: 104.2218\n",
      "\u001b[92m04-13 04:37:47\u001b[0m Epoch 0 itr 182/3312: lr: 0.0005 speed: 56.29(49.26s r7.01)s/itr 51.79h/epoch loss: 126.3258\n",
      "\u001b[92m04-13 04:38:41\u001b[0m Epoch 0 itr 183/3312: lr: 0.0005 speed: 56.27(49.25s r7.00)s/itr 51.76h/epoch loss: 135.9699\n",
      "\u001b[92m04-13 04:39:35\u001b[0m Epoch 0 itr 184/3312: lr: 0.0005 speed: 56.25(49.25s r6.99)s/itr 51.75h/epoch loss: 127.5034\n",
      "\u001b[92m04-13 04:40:28\u001b[0m Epoch 0 itr 185/3312: lr: 0.0005 speed: 56.24(49.24s r6.98)s/itr 51.74h/epoch loss: 130.5109\n",
      "\u001b[92m04-13 04:41:20\u001b[0m Epoch 0 itr 186/3312: lr: 0.0005 speed: 56.22(49.24s r6.95)s/itr 51.72h/epoch loss: 136.6427\n",
      "\u001b[92m04-13 04:42:15\u001b[0m Epoch 0 itr 187/3312: lr: 0.0005 speed: 56.20(49.24s r6.95)s/itr 51.70h/epoch loss: 113.7972\n",
      "\u001b[92m04-13 04:43:09\u001b[0m Epoch 0 itr 188/3312: lr: 0.0005 speed: 56.19(49.23s r6.94)s/itr 51.69h/epoch loss: 148.1679\n",
      "\u001b[92m04-13 04:44:03\u001b[0m Epoch 0 itr 189/3312: lr: 0.0005 speed: 56.18(49.24s r6.93)s/itr 51.68h/epoch loss: 126.6677\n",
      "\u001b[92m04-13 04:44:57\u001b[0m Epoch 0 itr 190/3312: lr: 0.0005 speed: 56.16(49.24s r6.92)s/itr 51.67h/epoch loss: 120.8148\n",
      "\u001b[92m04-13 04:45:51\u001b[0m Epoch 0 itr 191/3312: lr: 0.0005 speed: 56.15(49.24s r6.90)s/itr 51.66h/epoch loss: 128.0814\n",
      "\u001b[92m04-13 04:46:46\u001b[0m Epoch 0 itr 192/3312: lr: 0.0005 speed: 56.14(49.24s r6.89)s/itr 51.65h/epoch loss: 121.9253\n",
      "\u001b[92m04-13 04:47:39\u001b[0m Epoch 0 itr 193/3312: lr: 0.0005 speed: 56.13(49.24s r6.87)s/itr 51.64h/epoch loss: 125.5458\n",
      "\u001b[92m04-13 04:48:32\u001b[0m Epoch 0 itr 194/3312: lr: 0.0005 speed: 56.11(49.24s r6.85)s/itr 51.62h/epoch loss: 126.6584\n",
      "\u001b[92m04-13 04:49:24\u001b[0m Epoch 0 itr 195/3312: lr: 0.0005 speed: 56.10(49.24s r6.83)s/itr 51.61h/epoch loss: 145.8079\n",
      "\u001b[92m04-13 04:50:18\u001b[0m Epoch 0 itr 196/3312: lr: 0.0005 speed: 56.08(49.24s r6.82)s/itr 51.59h/epoch loss: 117.5722\n",
      "\u001b[92m04-13 04:51:11\u001b[0m Epoch 0 itr 197/3312: lr: 0.0005 speed: 56.06(49.25s r6.80)s/itr 51.58h/epoch loss: 118.1014\n",
      "\u001b[92m04-13 04:52:03\u001b[0m Epoch 0 itr 198/3312: lr: 0.0005 speed: 56.05(49.25s r6.78)s/itr 51.56h/epoch loss: 112.0278\n",
      "\u001b[92m04-13 04:52:56\u001b[0m Epoch 0 itr 199/3312: lr: 0.0005 speed: 56.03(49.25s r6.76)s/itr 51.55h/epoch loss: 144.2836\n",
      "\u001b[92m04-13 04:53:51\u001b[0m Epoch 0 itr 200/3312: lr: 0.0005 speed: 56.01(49.26s r6.75)s/itr 51.53h/epoch loss: 114.2975\n",
      "\u001b[92m04-13 04:54:46\u001b[0m Epoch 0 itr 201/3312: lr: 0.0005 speed: 56.00(49.26s r6.74)s/itr 51.52h/epoch loss: 116.6497\n",
      "\u001b[92m04-13 04:55:41\u001b[0m Epoch 0 itr 202/3312: lr: 0.0005 speed: 56.00(49.26s r6.73)s/itr 51.52h/epoch loss: 129.6830\n",
      "\u001b[92m04-13 04:56:35\u001b[0m Epoch 0 itr 203/3312: lr: 0.0005 speed: 55.99(49.27s r6.72)s/itr 51.51h/epoch loss: 132.7747\n",
      "\u001b[92m04-13 04:57:30\u001b[0m Epoch 0 itr 204/3312: lr: 0.0005 speed: 55.99(49.27s r6.71)s/itr 51.51h/epoch loss: 119.1682\n",
      "\u001b[92m04-13 04:58:25\u001b[0m Epoch 0 itr 205/3312: lr: 0.0005 speed: 55.98(49.27s r6.70)s/itr 51.50h/epoch loss: 119.7879\n",
      "\u001b[92m04-13 04:59:19\u001b[0m Epoch 0 itr 206/3312: lr: 0.0005 speed: 55.98(49.27s r6.69)s/itr 51.50h/epoch loss: 128.9975\n",
      "\u001b[92m04-13 05:00:13\u001b[0m Epoch 0 itr 207/3312: lr: 0.0005 speed: 55.97(49.27s r6.68)s/itr 51.49h/epoch loss: 137.2100\n",
      "\u001b[92m04-13 05:01:07\u001b[0m Epoch 0 itr 208/3312: lr: 0.0005 speed: 55.96(49.27s r6.67)s/itr 51.48h/epoch loss: 129.4470\n",
      "\u001b[92m04-13 05:02:00\u001b[0m Epoch 0 itr 209/3312: lr: 0.0005 speed: 55.94(49.27s r6.65)s/itr 51.47h/epoch loss: 134.6262\n",
      "\u001b[92m04-13 05:02:52\u001b[0m Epoch 0 itr 210/3312: lr: 0.0005 speed: 55.93(49.27s r6.64)s/itr 51.45h/epoch loss: 118.1091\n",
      "\u001b[92m04-13 05:03:45\u001b[0m Epoch 0 itr 211/3312: lr: 0.0005 speed: 55.91(49.27s r6.62)s/itr 51.44h/epoch loss: 129.7070\n",
      "\u001b[92m04-13 05:04:40\u001b[0m Epoch 0 itr 212/3312: lr: 0.0005 speed: 55.90(49.27s r6.62)s/itr 51.43h/epoch loss: 134.4226\n",
      "\u001b[92m04-13 05:05:33\u001b[0m Epoch 0 itr 213/3312: lr: 0.0005 speed: 55.89(49.27s r6.61)s/itr 51.42h/epoch loss: 123.0470\n",
      "\u001b[92m04-13 05:06:27\u001b[0m Epoch 0 itr 214/3312: lr: 0.0005 speed: 55.88(49.27s r6.60)s/itr 51.41h/epoch loss: 112.7353\n",
      "\u001b[92m04-13 05:07:21\u001b[0m Epoch 0 itr 215/3312: lr: 0.0005 speed: 55.87(49.27s r6.58)s/itr 51.40h/epoch loss: 135.7169\n",
      "\u001b[92m04-13 05:08:15\u001b[0m Epoch 0 itr 216/3312: lr: 0.0005 speed: 55.86(49.27s r6.57)s/itr 51.39h/epoch loss: 120.2599\n",
      "\u001b[92m04-13 05:09:08\u001b[0m Epoch 0 itr 217/3312: lr: 0.0005 speed: 55.85(49.28s r6.56)s/itr 51.38h/epoch loss: 125.8438\n",
      "\u001b[92m04-13 05:10:03\u001b[0m Epoch 0 itr 218/3312: lr: 0.0005 speed: 55.84(49.28s r6.55)s/itr 51.37h/epoch loss: 124.2221\n",
      "\u001b[92m04-13 05:10:57\u001b[0m Epoch 0 itr 219/3312: lr: 0.0005 speed: 55.83(49.28s r6.54)s/itr 51.36h/epoch loss: 132.9377\n",
      "\u001b[92m04-13 05:11:51\u001b[0m Epoch 0 itr 220/3312: lr: 0.0005 speed: 55.82(49.28s r6.53)s/itr 51.36h/epoch loss: 128.2146\n",
      "\u001b[92m04-13 05:12:44\u001b[0m Epoch 0 itr 221/3312: lr: 0.0005 speed: 55.81(49.29s r6.52)s/itr 51.35h/epoch loss: 126.4964\n",
      "\u001b[92m04-13 05:13:39\u001b[0m Epoch 0 itr 222/3312: lr: 0.0005 speed: 55.80(49.29s r6.51)s/itr 51.34h/epoch loss: 111.3341\n",
      "\u001b[92m04-13 05:14:31\u001b[0m Epoch 0 itr 223/3312: lr: 0.0005 speed: 55.80(49.28s r6.49)s/itr 51.33h/epoch loss: 135.5979\n",
      "\u001b[92m04-13 05:15:24\u001b[0m Epoch 0 itr 224/3312: lr: 0.0005 speed: 55.78(49.28s r6.48)s/itr 51.32h/epoch loss: 119.7609\n",
      "\u001b[92m04-13 05:16:17\u001b[0m Epoch 0 itr 225/3312: lr: 0.0005 speed: 55.77(49.28s r6.47)s/itr 51.31h/epoch loss: 100.6593\n",
      "\u001b[92m04-13 05:17:10\u001b[0m Epoch 0 itr 226/3312: lr: 0.0005 speed: 55.75(49.29s r6.46)s/itr 51.29h/epoch loss: 116.6437\n",
      "\u001b[92m04-13 05:18:05\u001b[0m Epoch 0 itr 227/3312: lr: 0.0005 speed: 55.74(49.28s r6.45)s/itr 51.28h/epoch loss: 130.2069\n",
      "\u001b[92m04-13 05:18:57\u001b[0m Epoch 0 itr 228/3312: lr: 0.0005 speed: 55.74(49.28s r6.44)s/itr 51.28h/epoch loss: 123.0539\n"
     ]
    }
   ],
   "source": [
    "!python train.py --gpu 0"
   ]
  },
  {
   "cell_type": "code",
   "execution_count": null,
   "metadata": {
    "colab": {},
    "colab_type": "code",
    "id": "diknlyNaXeR7"
   },
   "outputs": [],
   "source": []
  }
 ],
 "metadata": {
  "colab": {
   "collapsed_sections": [],
   "name": "PoseEstimation.ipynb",
   "provenance": [],
   "version": "0.3.2"
  },
  "kernelspec": {
   "display_name": "Python 3",
   "language": "python",
   "name": "python3"
  },
  "language_info": {
   "codemirror_mode": {
    "name": "ipython",
    "version": 3
   },
   "file_extension": ".py",
   "mimetype": "text/x-python",
   "name": "python",
   "nbconvert_exporter": "python",
   "pygments_lexer": "ipython3",
   "version": "3.7.2"
  }
 },
 "nbformat": 4,
 "nbformat_minor": 2
}
